{
 "cells": [
  {
   "cell_type": "code",
   "execution_count": 1,
   "metadata": {},
   "outputs": [],
   "source": [
    "import os\n",
    "import enchant\n",
    "import emoji"
   ]
  },
  {
   "cell_type": "code",
   "execution_count": 9,
   "metadata": {},
   "outputs": [],
   "source": [
    "def get_glove_dictionary(file_path=\"./glove.twitter.27B.25d.txt\"):\n",
    "    \"\"\"output a glove dictionary\"\"\"\n",
    "    file = open(file_path, \"r\",encoding='utf-8')\n",
    "    dictionary = {}\n",
    "    keys = []\n",
    "    for word_vector in file:\n",
    "        dictionary[word_vector.split()[0]] = word_vector.split()[1:]\n",
    "        keys.append(word_vector.split()[0])\n",
    "    file.close()\n",
    "    return dictionary, keys"
   ]
  },
  {
   "cell_type": "code",
   "execution_count": 3,
   "metadata": {},
   "outputs": [],
   "source": [
    "def isWord(s):\n",
    "    try:\n",
    "        return d.check(s)\n",
    "    except Exception as e:\n",
    "        return False\n",
    "    return True"
   ]
  },
  {
   "cell_type": "code",
   "execution_count": 4,
   "metadata": {},
   "outputs": [],
   "source": [
    "def char_is_emoji(character):\n",
    "    return character in emoji.UNICODE_EMOJI"
   ]
  },
  {
   "cell_type": "code",
   "execution_count": 5,
   "metadata": {},
   "outputs": [],
   "source": [
    "def is_tag(s):\n",
    "    try:\n",
    "        if s[0] == '<' and s[-1] =='>':\n",
    "            return True\n",
    "    except Exception as e:\n",
    "        return False\n",
    "    return False"
   ]
  },
  {
   "cell_type": "code",
   "execution_count": 14,
   "metadata": {},
   "outputs": [],
   "source": [
    "def isEnglish(s):\n",
    "    try:\n",
    "        s.encode(encoding='utf-8').decode('ascii')\n",
    "    except UnicodeDecodeError:\n",
    "        return False\n",
    "    else:\n",
    "        return True"
   ]
  },
  {
   "cell_type": "code",
   "execution_count": 26,
   "metadata": {},
   "outputs": [],
   "source": [
    "def valid_input(s):\n",
    "    if s.isalpha():\n",
    "        if isEnglish(s):\n",
    "            return True\n",
    "        else:\n",
    "            return False\n",
    "    else:\n",
    "        return False\n",
    "#     elif char_is_emoji(s):\n",
    "#         return True\n",
    "#     elif is_tag(s):\n",
    "#         return True\n",
    "#     else:\n",
    "#         return False"
   ]
  },
  {
   "cell_type": "code",
   "execution_count": 102,
   "metadata": {},
   "outputs": [],
   "source": [
    "def output_dict(_valid):\n",
    "    file = open(\"./new/glove_index.txt\", \"a\",encoding='utf-8')\n",
    "    file.write(\"<pad>\\n\")\n",
    "    file.write(\"<unknown>\\n\")\n",
    "    for word in _valid:\n",
    "        if word==\"<unk>\":\n",
    "            pass\n",
    "        file.write(word + '\\n')\n",
    "    file.close()"
   ]
  },
  {
   "cell_type": "code",
   "execution_count": 103,
   "metadata": {},
   "outputs": [],
   "source": [
    "def output_vec_dict(_dict, _keys, _valid):\n",
    "    file = open(\"./new/glove_vector.txt\", \"a\",encoding='utf-8')\n",
    "    file.write(\"<pad> 0 0 0 0 0 0 0 0 0 0 0 0 0 0 0 0 0 0 0 0 0 0 0 0 0\" +'\\n')\n",
    "    file.write(\"<unknown> 0.24634 -0.4477 -0.43908 -0.77769 -1.4601 -1.114 -0.41041 -1.0084 0.95986 -0.46477 -2.407 0.91289 0.66137 -2.3226 -0.81741 1.2297 -0.23924 1.6392 -0.6955 -0.43313 -0.75483 -1.9462 0.41749 -0.035671 -0.57268\" +'\\n')\n",
    "    for key in _valid:\n",
    "        if key==\"<unk>\":\n",
    "            pass\n",
    "        a = [key]\n",
    "        a.extend(_dict[key])\n",
    "        s = \" \".join(a)\n",
    "        file.write(s +'\\n')\n",
    "    file.close()"
   ]
  },
  {
   "cell_type": "code",
   "execution_count": 10,
   "metadata": {},
   "outputs": [],
   "source": [
    "[_dict, _keys] = get_glove_dictionary()"
   ]
  },
  {
   "cell_type": "code",
   "execution_count": 27,
   "metadata": {},
   "outputs": [],
   "source": [
    "d = enchant.Dict(\"en_US\")\n",
    "_valid = [x for x in _keys if valid_input(x)]"
   ]
  },
  {
   "cell_type": "code",
   "execution_count": 87,
   "metadata": {},
   "outputs": [
    {
     "data": {
      "text/plain": [
       "552345"
      ]
     },
     "execution_count": 87,
     "metadata": {},
     "output_type": "execute_result"
    }
   ],
   "source": [
    "len(_valid)"
   ]
  },
  {
   "cell_type": "code",
   "execution_count": 13,
   "metadata": {},
   "outputs": [
    {
     "data": {
      "text/plain": [
       "1193515"
      ]
     },
     "execution_count": 13,
     "metadata": {},
     "output_type": "execute_result"
    }
   ],
   "source": [
    "len(_keys)"
   ]
  },
  {
   "cell_type": "code",
   "execution_count": null,
   "metadata": {},
   "outputs": [],
   "source": []
  },
  {
   "cell_type": "markdown",
   "metadata": {},
   "source": [
    "# Get all apperance in the dataset"
   ]
  },
  {
   "cell_type": "code",
   "execution_count": 42,
   "metadata": {},
   "outputs": [],
   "source": [
    "import pandas as pd\n",
    "import preprocess"
   ]
  },
  {
   "cell_type": "code",
   "execution_count": 39,
   "metadata": {},
   "outputs": [],
   "source": [
    "df = pd.read_csv(\"training.full.csv\")"
   ]
  },
  {
   "cell_type": "code",
   "execution_count": 59,
   "metadata": {},
   "outputs": [],
   "source": [
    "a = preprocess.Preprocessor()"
   ]
  },
  {
   "cell_type": "code",
   "execution_count": 83,
   "metadata": {},
   "outputs": [
    {
     "data": {
      "text/plain": [
       "(1600000, 6)"
      ]
     },
     "execution_count": 83,
     "metadata": {},
     "output_type": "execute_result"
    }
   ],
   "source": [
    "datasource = df[\"Tweet\"]\n",
    "df.shape"
   ]
  },
  {
   "cell_type": "code",
   "execution_count": 84,
   "metadata": {},
   "outputs": [
    {
     "name": "stdout",
     "output_type": "stream",
     "text": [
      "0.0625\n",
      "0.125\n",
      "0.1875\n",
      "0.25\n",
      "0.3125\n",
      "0.375\n",
      "0.4375\n",
      "0.5\n",
      "0.5625\n",
      "0.625\n",
      "0.6875\n",
      "0.75\n",
      "0.8125\n",
      "0.875\n",
      "0.9375\n",
      "1.0\n"
     ]
    }
   ],
   "source": [
    "word_list = []\n",
    "for idx, b in enumerate(datasource):\n",
    "    idx += 1\n",
    "    if idx%100000==0:\n",
    "        print(idx/1600000)\n",
    "    word_list.extend((a.tokenize_text(a.clean_text(b))))"
   ]
  },
  {
   "cell_type": "code",
   "execution_count": 85,
   "metadata": {},
   "outputs": [
    {
     "data": {
      "text/plain": [
       "275116"
      ]
     },
     "execution_count": 85,
     "metadata": {},
     "output_type": "execute_result"
    }
   ],
   "source": [
    "len(set(word_list))"
   ]
  },
  {
   "cell_type": "code",
   "execution_count": 88,
   "metadata": {},
   "outputs": [],
   "source": [
    "word_set = set(word_list)"
   ]
  },
  {
   "cell_type": "code",
   "execution_count": 89,
   "metadata": {},
   "outputs": [],
   "source": [
    "_valid_exist =  [x for x in _valid if x in word_set]  "
   ]
  },
  {
   "cell_type": "code",
   "execution_count": 91,
   "metadata": {},
   "outputs": [
    {
     "data": {
      "text/plain": [
       "124686"
      ]
     },
     "execution_count": 91,
     "metadata": {},
     "output_type": "execute_result"
    }
   ],
   "source": [
    "len(_valid_exist)"
   ]
  },
  {
   "cell_type": "code",
   "execution_count": 104,
   "metadata": {},
   "outputs": [],
   "source": [
    "output_dict(_valid_exist)"
   ]
  },
  {
   "cell_type": "code",
   "execution_count": 105,
   "metadata": {},
   "outputs": [],
   "source": [
    "output_vec_dict(_dict, _keys, _valid_exist)"
   ]
  },
  {
   "cell_type": "code",
   "execution_count": null,
   "metadata": {},
   "outputs": [],
   "source": []
  },
  {
   "cell_type": "code",
   "execution_count": 109,
   "metadata": {},
   "outputs": [
    {
     "data": {
      "text/plain": [
       "False"
      ]
     },
     "execution_count": 109,
     "metadata": {},
     "output_type": "execute_result"
    }
   ],
   "source": [
    "\"<unknown>\" in _valid_exist"
   ]
  },
  {
   "cell_type": "code",
   "execution_count": 110,
   "metadata": {},
   "outputs": [
    {
     "data": {
      "text/plain": [
       "124688"
      ]
     },
     "execution_count": 110,
     "metadata": {},
     "output_type": "execute_result"
    }
   ],
   "source": [
    "124686+2"
   ]
  },
  {
   "cell_type": "code",
   "execution_count": null,
   "metadata": {},
   "outputs": [],
   "source": []
  }
 ],
 "metadata": {
  "kernelspec": {
   "display_name": "Python 3",
   "language": "python",
   "name": "python3"
  },
  "language_info": {
   "codemirror_mode": {
    "name": "ipython",
    "version": 3
   },
   "file_extension": ".py",
   "mimetype": "text/x-python",
   "name": "python",
   "nbconvert_exporter": "python",
   "pygments_lexer": "ipython3",
   "version": "3.7.4"
  }
 },
 "nbformat": 4,
 "nbformat_minor": 2
}
