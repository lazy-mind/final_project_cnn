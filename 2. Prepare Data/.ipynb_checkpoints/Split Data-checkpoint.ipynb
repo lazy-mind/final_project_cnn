{
 "cells": [
  {
   "cell_type": "code",
   "execution_count": 52,
   "metadata": {},
   "outputs": [],
   "source": [
    "import pandas as pd\n",
    "import preprocess\n",
    "import json\n",
    "import matplotlib.pyplot as plt\n",
    "import numpy as np"
   ]
  },
  {
   "cell_type": "code",
   "execution_count": 53,
   "metadata": {},
   "outputs": [],
   "source": [
    "df = pd.read_csv(\"training.full.csv\")"
   ]
  },
  {
   "cell_type": "code",
   "execution_count": 55,
   "metadata": {},
   "outputs": [
    {
     "data": {
      "text/plain": [
       "(array([7.33614e+05, 6.48243e+05, 2.17723e+05, 3.59000e+02, 2.90000e+01,\n",
       "        1.60000e+01, 7.00000e+00, 3.00000e+00, 4.00000e+00, 2.00000e+00]),\n",
       " array([  2. ,  12.8,  23.6,  34.4,  45.2,  56. ,  66.8,  77.6,  88.4,\n",
       "         99.2, 110. ]),\n",
       " <a list of 10 Patch objects>)"
      ]
     },
     "execution_count": 55,
     "metadata": {},
     "output_type": "execute_result"
    },
    {
     "data": {
      "image/png": "[encoded data removed]",
      "text/plain": [
       "<Figure size 432x288 with 1 Axes>"
      ]
     },
     "metadata": {
      "needs_background": "light"
     },
     "output_type": "display_data"
    }
   ],
   "source": [
    "tweet_len = []\n",
    "for tweet in df[\"Tweet\"]:\n",
    "    tweet_len.append(len(tweet.split(\" \")))\n",
    "plt.hist(tweet_len)"
   ]
  },
  {
   "cell_type": "code",
   "execution_count": 56,
   "metadata": {},
   "outputs": [
    {
     "data": {
      "text/plain": [
       "0.22866125"
      ]
     },
     "execution_count": 56,
     "metadata": {},
     "output_type": "execute_result"
    }
   ],
   "source": [
    "tweet_len = np.array(tweet_len)\n",
    "len(tweet_len[tweet_len>20])/len(tweet_len)"
   ]
  },
  {
   "cell_type": "code",
   "execution_count": 57,
   "metadata": {},
   "outputs": [],
   "source": [
    "a = preprocess.Preprocessor()"
   ]
  },
  {
   "cell_type": "code",
   "execution_count": 58,
   "metadata": {},
   "outputs": [
    {
     "name": "stdout",
     "output_type": "stream",
     "text": [
      "looooooooooooooooooong story  sooooooooo excited  soo amazing  short version  got a splinter in his arm   it got infected because the drs  staff didnt do their job\n",
      "['looong', 'story', 'sooo', 'excited', 'soo', 'amazing', 'short', 'version', 'got', 'a', 'splinter', 'in', 'his', 'arm', 'it', 'got', 'infected', 'because', 'the', 'drs', 'staff', 'didnt', 'do', 'their', 'job']\n",
      "[31172, 771, 70937, 710, 1362, 443, 1285, 2254, 98, 4, 32603, 16, 174, 3818, 15, 98, 22397, 188, 5, 32229, 4984, 1494, 21, 260, 623]\n",
      "[31172, 771, 70937, 710, 1362, 443, 1285, 2254, 98, 4, 32603, 16, 174, 3818, 15, 98, 22397, 188, 5, 32229, 4984, 1494, 21, 260, 623, 0, 0, 0, 0, 0]\n"
     ]
    }
   ],
   "source": [
    "a = preprocess.Preprocessor()\n",
    "# input_text = \"Taking my folks to the Gospel Brunch at the House of Blues..what a good son I am \"\n",
    "# input_text = \"@Nana_Mex @KellyThomas1  Thanks for the shout Kelly ,Have a great day lol \"\n",
    "# input_text = \"Damn it.  TV on the Radio is playing the Central Park Summer Stage right now, and I didn't know until 30 seconds ago.  \"\n",
    "# input_text = \"I HAVE NO LUCK WAT SO EVA WID CATCHIN ANYBODY ONLINE ON TWITTER!  I TINK IMMA HUDDLE UP IN A CORNER NDD CRY NOW :'(\"\n",
    "# input_text = \"Aw, New Moon looks so bad  Can't wait to see Michael Sheen in it, though!\"\n",
    "# input_text = \"Watching Mickey Rourke in The Wrestler. Gotta see what all the fuss was about. \"\n",
    "# input_text = \"wasn't cant wait for the new hannah motana programmes to come out there gonna be soooo coool! \"\n",
    "# input_text = \"@ChaosMagick Really?! Oh, OK then, just for you   http://twitpic.com/7gk5o\"\n",
    "# input_text = \"I saw the New Moon Trailer/Preview a few hours and minutes ago! It was great! I can't wait to watch New Moon this year!  \"\n",
    "# input_text = \"Re-Readin Eclipse.. Cant wait For New Moon \"\n",
    "# input_text = \"@makelyb excluidinha!!! @Thaaiiis tÃ¡ \"\n",
    "input_text = \"Looooooooooooooooooong story! sooooooooo excited! soo amazing! Short version: got a splinter in his arm - it got infected because the Drs. staff didn't do their job \"\n",
    "# input_text = \"удивительно beebbeebbeebbeebbeebbeeb 詞的超強記憶力 مرره 回目を通\"\n",
    "# input_text = \"\"\n",
    "# input_text = \"\"\n",
    "# input_text = \"\"\n",
    "# input_text = \":( LoL 123 !q @w #e $r %r ^u  &jj *jJ (jkj 0KJ0) -i _j +j {j }j |js :n 'L it's don't Aw Dont Be A Meany  (Susan) Rocls. adfasd Say Hi For Me :L:L\"\n",
    "tmp = a.clean_text(input_text) ; print(tmp)\n",
    "tmp = a.tokenize_text(tmp) ; print(tmp)\n",
    "tmp = a.replace_token_with_index(tmp, a.max_length_dictionary) ; print(tmp)\n",
    "tmp = a.pad_sequence(tmp, a.max_length_tweet) ; print(tmp)"
   ]
  },
  {
   "cell_type": "code",
   "execution_count": 39,
   "metadata": {},
   "outputs": [],
   "source": [
    "def convert_to_json(df, file_path, preprocessor):\n",
    "    progress = 0\n",
    "    result = []\n",
    "    for idx, row in df.iterrows():\n",
    "        progress += 1\n",
    "        if progress%(df.shape[0]//20)==0:\n",
    "            print(progress/(df.shape[0]//20))\n",
    "        \n",
    "        _dict = {}\n",
    "        _dict[\"features\"] = preprocessor.preprocess_text(row[\"Tweet\"])\n",
    "        _dict[\"sentiment\"] = row[\"Sentiment\"]\n",
    "        result.append(_dict)\n",
    "    with open(file_path, 'w', encoding='utf-8') as f:\n",
    "        for entry in result:\n",
    "            json.dump(entry, f)\n",
    "            f.write('\\n')\n",
    "    f.close()"
   ]
  },
  {
   "cell_type": "markdown",
   "metadata": {},
   "source": [
    "# Split all data"
   ]
  },
  {
   "cell_type": "code",
   "execution_count": 48,
   "metadata": {},
   "outputs": [
    {
     "name": "stdout",
     "output_type": "stream",
     "text": [
      "0.85\n",
      "0.1\n",
      "0.05\n",
      "0.5\n",
      "0.5003235294117647\n",
      "0.49775625\n",
      "0.4989875\n"
     ]
    }
   ],
   "source": [
    "df = pd.read_csv(\"training.full.csv\")\n",
    "\n",
    "df_train = df.sample(frac=0.95,random_state=200)\n",
    "df_eval = df.drop(df_train.index)\n",
    "df_dev = df_train.sample(frac=0.10/0.95, random_state=200)\n",
    "df_train = df_train.drop(df_dev.index)\n",
    "\n",
    "# check portion\n",
    "print(df_train.shape[0]/df.shape[0])\n",
    "print(df_dev.shape[0]/df.shape[0])\n",
    "print(df_eval.shape[0]/df.shape[0])\n",
    "\n",
    "# check distribution\n",
    "print(df.loc[df[\"Sentiment\"]==0].shape[0]/df.shape[0])\n",
    "print(df_train.loc[df_train[\"Sentiment\"]==0].shape[0]/df_train.shape[0])\n",
    "print(df_dev.loc[df_dev[\"Sentiment\"]==0].shape[0]/df_dev.shape[0])\n",
    "print(df_eval.loc[df_eval[\"Sentiment\"]==0].shape[0]/df_eval.shape[0])\n",
    "\n",
    "# output dataframe\n",
    "df_train.to_csv(\"complete/train.csv\", index=False)\n",
    "df_dev.to_csv(\"complete/dev.csv\", index=False)\n",
    "df_eval.to_csv(\"complete/eval.csv\", index=False)"
   ]
  },
  {
   "cell_type": "code",
   "execution_count": 49,
   "metadata": {},
   "outputs": [
    {
     "name": "stdout",
     "output_type": "stream",
     "text": [
      "1.0\n",
      "2.0\n",
      "3.0\n",
      "4.0\n",
      "5.0\n",
      "6.0\n",
      "7.0\n",
      "8.0\n",
      "9.0\n",
      "10.0\n",
      "11.0\n",
      "12.0\n",
      "13.0\n",
      "14.0\n",
      "15.0\n",
      "16.0\n",
      "17.0\n",
      "18.0\n",
      "19.0\n",
      "20.0\n",
      "1.0\n",
      "2.0\n",
      "3.0\n",
      "4.0\n",
      "5.0\n",
      "6.0\n",
      "7.0\n",
      "8.0\n",
      "9.0\n",
      "10.0\n",
      "11.0\n",
      "12.0\n",
      "13.0\n",
      "14.0\n",
      "15.0\n",
      "16.0\n",
      "17.0\n",
      "18.0\n",
      "19.0\n",
      "20.0\n",
      "1.0\n",
      "2.0\n",
      "3.0\n",
      "4.0\n",
      "5.0\n",
      "6.0\n",
      "7.0\n",
      "8.0\n",
      "9.0\n",
      "10.0\n",
      "11.0\n",
      "12.0\n",
      "13.0\n",
      "14.0\n",
      "15.0\n",
      "16.0\n",
      "17.0\n",
      "18.0\n",
      "19.0\n",
      "20.0\n"
     ]
    }
   ],
   "source": [
    "convert_to_json(df_eval, \"complete/eval.json\", a)\n",
    "convert_to_json(df_dev, \"complete/dev.json\", a)\n",
    "convert_to_json(df_train, \"complete/train.json\", a)"
   ]
  },
  {
   "cell_type": "markdown",
   "metadata": {},
   "source": [
    "# Split 1/10 of the data"
   ]
  },
  {
   "cell_type": "code",
   "execution_count": 40,
   "metadata": {},
   "outputs": [
    {
     "name": "stdout",
     "output_type": "stream",
     "text": [
      "0.85\n",
      "0.1\n",
      "0.05\n",
      "0.50113125\n",
      "0.5007720588235294\n",
      "0.5041875\n",
      "0.501125\n"
     ]
    }
   ],
   "source": [
    "df = pd.read_csv(\"training.full.csv\")\n",
    "df = df.sample(frac=0.1,random_state=200)\n",
    "\n",
    "df_train = df.sample(frac=0.95,random_state=200)\n",
    "df_eval = df.drop(df_train.index)\n",
    "df_dev = df_train.sample(frac=0.10/0.95, random_state=200)\n",
    "df_train = df_train.drop(df_dev.index)\n",
    "\n",
    "# check portion\n",
    "print(df_train.shape[0]/df.shape[0])\n",
    "print(df_dev.shape[0]/df.shape[0])\n",
    "print(df_eval.shape[0]/df.shape[0])\n",
    "\n",
    "# check distribution\n",
    "print(df.loc[df[\"Sentiment\"]==0].shape[0]/df.shape[0])\n",
    "print(df_train.loc[df_train[\"Sentiment\"]==0].shape[0]/df_train.shape[0])\n",
    "print(df_dev.loc[df_dev[\"Sentiment\"]==0].shape[0]/df_dev.shape[0])\n",
    "print(df_eval.loc[df_eval[\"Sentiment\"]==0].shape[0]/df_eval.shape[0])\n",
    "\n",
    "df_train.to_csv(\"one_tenth/train.csv\", index=False)\n",
    "df_dev.to_csv(\"one_tenth/dev.csv\", index=False)\n",
    "df_eval.to_csv(\"one_tenth/eval.csv\", index=False)"
   ]
  },
  {
   "cell_type": "code",
   "execution_count": 41,
   "metadata": {},
   "outputs": [
    {
     "name": "stdout",
     "output_type": "stream",
     "text": [
      "1.0\n",
      "2.0\n",
      "3.0\n",
      "4.0\n",
      "5.0\n",
      "6.0\n",
      "7.0\n",
      "8.0\n",
      "9.0\n",
      "10.0\n",
      "11.0\n",
      "12.0\n",
      "13.0\n",
      "14.0\n",
      "15.0\n",
      "16.0\n",
      "17.0\n",
      "18.0\n",
      "19.0\n",
      "20.0\n",
      "1.0\n",
      "2.0\n",
      "3.0\n",
      "4.0\n",
      "5.0\n",
      "6.0\n",
      "7.0\n",
      "8.0\n",
      "9.0\n",
      "10.0\n",
      "11.0\n",
      "12.0\n",
      "13.0\n",
      "14.0\n",
      "15.0\n",
      "16.0\n",
      "17.0\n",
      "18.0\n",
      "19.0\n",
      "20.0\n",
      "1.0\n",
      "2.0\n",
      "3.0\n",
      "4.0\n",
      "5.0\n",
      "6.0\n",
      "7.0\n",
      "8.0\n",
      "9.0\n",
      "10.0\n",
      "11.0\n",
      "12.0\n",
      "13.0\n",
      "14.0\n",
      "15.0\n",
      "16.0\n",
      "17.0\n",
      "18.0\n",
      "19.0\n",
      "20.0\n"
     ]
    }
   ],
   "source": [
    "convert_to_json(df_eval, \"one_tenth/eval.json\", a)\n",
    "convert_to_json(df_dev, \"one_tenth/dev.json\", a)\n",
    "convert_to_json(df_train, \"one_tenth/train.json\", a)"
   ]
  },
  {
   "cell_type": "markdown",
   "metadata": {},
   "source": [
    "# Split 1/5 of the data"
   ]
  },
  {
   "cell_type": "code",
   "execution_count": 45,
   "metadata": {},
   "outputs": [
    {
     "name": "stdout",
     "output_type": "stream",
     "text": [
      "0.85\n",
      "0.1\n",
      "0.05\n",
      "0.4995875\n",
      "0.49969117647058825\n",
      "0.498625\n",
      "0.49975\n"
     ]
    }
   ],
   "source": [
    "df = pd.read_csv(\"training.full.csv\")\n",
    "df = df.sample(frac=0.2,random_state=200)\n",
    "\n",
    "df_train = df.sample(frac=0.95,random_state=200)\n",
    "df_eval = df.drop(df_train.index)\n",
    "df_dev = df_train.sample(frac=0.10/0.95, random_state=200)\n",
    "df_train = df_train.drop(df_dev.index)\n",
    "\n",
    "# check portion\n",
    "print(df_train.shape[0]/df.shape[0])\n",
    "print(df_dev.shape[0]/df.shape[0])\n",
    "print(df_eval.shape[0]/df.shape[0])\n",
    "\n",
    "# check distribution\n",
    "print(df.loc[df[\"Sentiment\"]==0].shape[0]/df.shape[0])\n",
    "print(df_train.loc[df_train[\"Sentiment\"]==0].shape[0]/df_train.shape[0])\n",
    "print(df_dev.loc[df_dev[\"Sentiment\"]==0].shape[0]/df_dev.shape[0])\n",
    "print(df_eval.loc[df_eval[\"Sentiment\"]==0].shape[0]/df_eval.shape[0])\n",
    "\n",
    "df_train.to_csv(\"one_fifth/train.csv\", index=False)\n",
    "df_dev.to_csv(\"one_fifth/dev.csv\", index=False)\n",
    "df_eval.to_csv(\"one_fifth/eval.csv\", index=False)"
   ]
  },
  {
   "cell_type": "code",
   "execution_count": 47,
   "metadata": {},
   "outputs": [
    {
     "name": "stdout",
     "output_type": "stream",
     "text": [
      "1.0\n",
      "2.0\n",
      "3.0\n",
      "4.0\n",
      "5.0\n",
      "6.0\n",
      "7.0\n",
      "8.0\n",
      "9.0\n",
      "10.0\n",
      "11.0\n",
      "12.0\n",
      "13.0\n",
      "14.0\n",
      "15.0\n",
      "16.0\n",
      "17.0\n",
      "18.0\n",
      "19.0\n",
      "20.0\n",
      "1.0\n",
      "2.0\n",
      "3.0\n",
      "4.0\n",
      "5.0\n",
      "6.0\n",
      "7.0\n",
      "8.0\n",
      "9.0\n",
      "10.0\n",
      "11.0\n",
      "12.0\n",
      "13.0\n",
      "14.0\n",
      "15.0\n",
      "16.0\n",
      "17.0\n",
      "18.0\n",
      "19.0\n",
      "20.0\n",
      "1.0\n",
      "2.0\n",
      "3.0\n",
      "4.0\n",
      "5.0\n",
      "6.0\n",
      "7.0\n",
      "8.0\n",
      "9.0\n",
      "10.0\n",
      "11.0\n",
      "12.0\n",
      "13.0\n",
      "14.0\n",
      "15.0\n",
      "16.0\n",
      "17.0\n",
      "18.0\n",
      "19.0\n",
      "20.0\n"
     ]
    }
   ],
   "source": [
    "convert_to_json(df_eval, \"one_fifth/eval.json\", a)\n",
    "convert_to_json(df_dev, \"one_fifth/dev.json\", a)\n",
    "convert_to_json(df_train, \"one_fifth/train.json\", a)"
   ]
  },
  {
   "cell_type": "code",
   "execution_count": null,
   "metadata": {},
   "outputs": [],
   "source": []
  },
  {
   "cell_type": "markdown",
   "metadata": {},
   "source": [
    "# 0.04 of the data"
   ]
  },
  {
   "cell_type": "code",
   "execution_count": 50,
   "metadata": {},
   "outputs": [
    {
     "name": "stdout",
     "output_type": "stream",
     "text": [
      "0.85\n",
      "0.1\n",
      "0.05\n",
      "0.500328947368421\n",
      "0.4988970588235294\n",
      "0.503125\n",
      "0.5190789473684211\n"
     ]
    }
   ],
   "source": [
    "df = pd.read_csv(\"training.full.csv\")\n",
    "df = df.drop(df_eval.index)\n",
    "df = df.sample(frac=0.04,random_state=200)\n",
    "\n",
    "df_train = df.sample(frac=0.95,random_state=200)\n",
    "df_eval = df.drop(df_train.index)\n",
    "df_dev = df_train.sample(frac=0.10/0.95, random_state=200)\n",
    "df_train = df_train.drop(df_dev.index)\n",
    "\n",
    "# check portion\n",
    "print(df_train.shape[0]/df.shape[0])\n",
    "print(df_dev.shape[0]/df.shape[0])\n",
    "print(df_eval.shape[0]/df.shape[0])\n",
    "\n",
    "# check distribution\n",
    "print(df.loc[df[\"Sentiment\"]==0].shape[0]/df.shape[0])\n",
    "print(df_train.loc[df_train[\"Sentiment\"]==0].shape[0]/df_train.shape[0])\n",
    "print(df_dev.loc[df_dev[\"Sentiment\"]==0].shape[0]/df_dev.shape[0])\n",
    "print(df_eval.loc[df_eval[\"Sentiment\"]==0].shape[0]/df_eval.shape[0])\n",
    "\n",
    "df_train.to_csv(\"one_25th/train.csv\", index=False)\n",
    "df_dev.to_csv(\"one_25th/dev.csv\", index=False)\n",
    "df_eval.to_csv(\"one_25th/eval.csv\", index=False)"
   ]
  },
  {
   "cell_type": "code",
   "execution_count": 51,
   "metadata": {},
   "outputs": [
    {
     "name": "stdout",
     "output_type": "stream",
     "text": [
      "1.0\n",
      "2.0\n",
      "3.0\n",
      "4.0\n",
      "5.0\n",
      "6.0\n",
      "7.0\n",
      "8.0\n",
      "9.0\n",
      "10.0\n",
      "11.0\n",
      "12.0\n",
      "13.0\n",
      "14.0\n",
      "15.0\n",
      "16.0\n",
      "17.0\n",
      "18.0\n",
      "19.0\n",
      "20.0\n",
      "1.0\n",
      "2.0\n",
      "3.0\n",
      "4.0\n",
      "5.0\n",
      "6.0\n",
      "7.0\n",
      "8.0\n",
      "9.0\n",
      "10.0\n",
      "11.0\n",
      "12.0\n",
      "13.0\n",
      "14.0\n",
      "15.0\n",
      "16.0\n",
      "17.0\n",
      "18.0\n",
      "19.0\n",
      "20.0\n",
      "1.0\n",
      "2.0\n",
      "3.0\n",
      "4.0\n",
      "5.0\n",
      "6.0\n",
      "7.0\n",
      "8.0\n",
      "9.0\n",
      "10.0\n",
      "11.0\n",
      "12.0\n",
      "13.0\n",
      "14.0\n",
      "15.0\n",
      "16.0\n",
      "17.0\n",
      "18.0\n",
      "19.0\n",
      "20.0\n"
     ]
    }
   ],
   "source": [
    "convert_to_json(df_eval, \"one_25th/eval.json\", a)\n",
    "convert_to_json(df_dev, \"one_25th/dev.json\", a)\n",
    "convert_to_json(df_train, \"one_25th/train.json\", a)"
   ]
  },
  {
   "cell_type": "code",
   "execution_count": null,
   "metadata": {},
   "outputs": [],
   "source": []
  }
 ],
 "metadata": {
  "kernelspec": {
   "display_name": "Python 3",
   "language": "python",
   "name": "python3"
  },
  "language_info": {
   "codemirror_mode": {
    "name": "ipython",
    "version": 3
   },
   "file_extension": ".py",
   "mimetype": "text/x-python",
   "name": "python",
   "nbconvert_exporter": "python",
   "pygments_lexer": "ipython3",
   "version": "3.7.4"
  }
 },
 "nbformat": 4,
 "nbformat_minor": 2
}
