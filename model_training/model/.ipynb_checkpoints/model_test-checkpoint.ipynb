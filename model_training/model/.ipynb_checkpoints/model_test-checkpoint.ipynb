{
 "cells": [
  {
   "cell_type": "code",
   "execution_count": 1,
   "metadata": {},
   "outputs": [],
   "source": [
    "import tensorflow as tf\n",
    "from tensorflow.data import Dataset\n",
    "import numpy as np\n",
    "import preprocess\n",
    "import pandas as pd"
   ]
  },
  {
   "cell_type": "code",
   "execution_count": 2,
   "metadata": {},
   "outputs": [],
   "source": [
    "a = preprocess.Preprocessor()"
   ]
  },
  {
   "cell_type": "code",
   "execution_count": null,
   "metadata": {},
   "outputs": [],
   "source": [
    "df = pd.read_csv(\"training.full.csv\")"
   ]
  },
  {
   "cell_type": "code",
   "execution_count": null,
   "metadata": {},
   "outputs": [],
   "source": [
    "model = tf.keras.models.load_model(\"sentiment_model.h5/1\")"
   ]
  },
  {
   "cell_type": "code",
   "execution_count": 14,
   "metadata": {},
   "outputs": [
    {
     "name": "stdout",
     "output_type": "stream",
     "text": [
      "@switchfoot http://twitpic.com/2y1zl - Awww, that's a bummer.  You shoulda got David Carr of Third Day to do it. ;D\n",
      "0\n",
      "[[0.5385198]]\n",
      "\n",
      "is upset that he can't update his Facebook by texting it... and might cry as a result  School today also. Blah!\n",
      "0\n",
      "[[0.4798002]]\n",
      "\n",
      "@Kenichan I dived many times for the ball. Managed to save 50%  The rest go out of bounds\n",
      "0\n",
      "[[0.03513383]]\n",
      "\n",
      "my whole body feels itchy and like its on fire \n",
      "0\n",
      "[[0.8093689]]\n",
      "\n",
      "@nationwideclass no, it's not behaving at all. i'm mad. why am i here? because I can't see you all over there. \n",
      "0\n",
      "[[0.8095879]]\n",
      "\n",
      "@Kwesidei not the whole crew \n",
      "0\n",
      "[[0.59093213]]\n",
      "\n",
      "Need a hug \n",
      "0\n",
      "[[0.32829043]]\n",
      "\n",
      "@LOLTrish hey  long time no see! Yes.. Rains a bit ,only a bit  LOL , I'm fine thanks , how's you ?\n",
      "0\n",
      "[[0.7339049]]\n",
      "\n",
      "@Tatiana_K nope they didn't have it \n",
      "0\n",
      "[[0.25223318]]\n",
      "\n",
      "@twittera que me muera ? \n",
      "0\n",
      "[[0.828737]]\n",
      "\n"
     ]
    }
   ],
   "source": [
    "for idx, row in df.head(10).iterrows():\n",
    "    tmp = row[\"Tweet\"]\n",
    "    print(tmp)\n",
    "    print(row[\"Sentiment\"])\n",
    "#     tmp = a.clean_text(tmp)\n",
    "#     print(tmp)\n",
    "#     tmp = a.tokenize_text(tmp)\n",
    "#     print(tmp)\n",
    "#     tmp = a.replace_token_with_index(tmp, a.max_length_dictionary)\n",
    "#     print(tmp)\n",
    "#     tmp = a.pad_sequence(tmp, a.max_length_tweet)\n",
    "#     print(tmp)\n",
    "    input = a.preprocess_text(tmp)\n",
    "    print(model.predict({\"features_input\":np.array([input])}))\n",
    "    print()"
   ]
  },
  {
   "cell_type": "code",
   "execution_count": 10,
   "metadata": {},
   "outputs": [],
   "source": [
    "# https://towardsdatascience.com/cnn-sentiment-analysis-1d16b7c5a0e7\n",
    "# https://web.stanford.edu/class/archive/cs/cs224n/cs224n.1194/reports/custom/15786247.pdf\n",
    "# https://medium.com/swlh/determining-the-happiest-cities-using-twitter-sentiment-analysis-with-bert-67b7591e593\n",
    "# https://www.kaggle.com/menion/sentiment-analysis-with-bert-87-accuracy/notebook"
   ]
  },
  {
   "cell_type": "code",
   "execution_count": null,
   "metadata": {},
   "outputs": [],
   "source": [
    "# dataset = Dataset.from_tensor_slices(([[1,2,3,4,5,6,7,8,9,10,1,2,3,4,5,6,7,8,9,10,1,2,3,4,5,6,7,8,9,10,1,2,3,4,5,6,7,8,9,10],\n",
    "#                                        [1,2,3,4,5,6,7,8,9,10,1,2,3,4,5,6,7,8,9,10,1,2,3,4,5,6,7,8,9,10,1,2,3,4,5,6,7,8,9,10],\n",
    "#                                        [1,2,3,4,5,6,7,8,9,10,1,2,3,4,5,6,7,8,9,10,1,2,3,4,5,6,7,8,9,10,1,2,3,4,5,6,7,8,9,10],\n",
    "#                                       ], \n",
    "                                      \n",
    "#                                       [1,3,5]))\n",
    "# iterator = dataset.make_one_shot_iterator()\n",
    "# dataset_features, dataset_labels = iterator.get_next()\n",
    "# dataset_features"
   ]
  },
  {
   "cell_type": "markdown",
   "metadata": {},
   "source": [
    "# translate spanish into english\n",
    "# "
   ]
  },
  {
   "cell_type": "code",
   "execution_count": null,
   "metadata": {},
   "outputs": [],
   "source": []
  }
 ],
 "metadata": {
  "kernelspec": {
   "display_name": "Python 3",
   "language": "python",
   "name": "python3"
  },
  "language_info": {
   "codemirror_mode": {
    "name": "ipython",
    "version": 3
   },
   "file_extension": ".py",
   "mimetype": "text/x-python",
   "name": "python",
   "nbconvert_exporter": "python",
   "pygments_lexer": "ipython3",
   "version": "3.7.4"
  }
 },
 "nbformat": 4,
 "nbformat_minor": 2
}
