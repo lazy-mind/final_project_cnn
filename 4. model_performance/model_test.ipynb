{
 "cells": [
  {
   "cell_type": "code",
   "execution_count": 1,
   "metadata": {},
   "outputs": [
    {
     "data": {
      "text/plain": [
       "'1.15.0'"
      ]
     },
     "execution_count": 1,
     "metadata": {},
     "output_type": "execute_result"
    }
   ],
   "source": [
    "import tensorflow as tf\n",
    "import numpy as np\n",
    "import preprocess\n",
    "import pandas as pd\n",
    "import json\n",
    "# https://towardsdatascience.com/cnn-sentiment-analysis-1d16b7c5a0e7\n",
    "# https://web.stanford.edu/class/archive/cs/cs224n/cs224n.1194/reports/custom/15786247.pdf\n",
    "# https://medium.com/swlh/determining-the-happiest-cities-using-twitter-sentiment-analysis-with-bert-67b7591e593\n",
    "# https://www.kaggle.com/menion/sentiment-analysis-with-bert-87-accuracy/notebook\n",
    "tf.__version__\n",
    "# from tensorflow.data import Dataset\n"
   ]
  },
  {
   "cell_type": "code",
   "execution_count": 2,
   "metadata": {},
   "outputs": [],
   "source": [
    "features = []\n",
    "labels = []\n",
    "\n",
    "with open(\"eval.json\", \"r\") as file:\n",
    "    for line in file:\n",
    "        entry = json.loads(line)\n",
    "        labels.append(entry[\"sentiment\"] / 4)\n",
    "        features.append(entry[\"features\"])"
   ]
  },
  {
   "cell_type": "code",
   "execution_count": null,
   "metadata": {},
   "outputs": [],
   "source": [
    "basic_model = tf.keras.models.load_model(\"standard_no_dropout/1\")\n",
    "result = basic_model.evaluate(np.array(features), np.array(labels))"
   ]
  },
  {
   "cell_type": "code",
   "execution_count": 4,
   "metadata": {},
   "outputs": [
    {
     "name": "stdout",
     "output_type": "stream",
     "text": [
      "80000/80000 [==============================] - 29s 359us/sample - loss: 0.3899 - acc: 0.8284\n"
     ]
    }
   ],
   "source": [
    "standard_dropout_model = tf.keras.models.load_model(\"sentiment_model.h5/1\")\n",
    "result = standard_dropout_model.evaluate(np.array(features), np.array(labels))"
   ]
  },
  {
   "cell_type": "code",
   "execution_count": null,
   "metadata": {},
   "outputs": [],
   "source": [
    "lstm_no_dropout_model = tf.keras.models.load_model(\"lstm_no_dropout/1\")\n",
    "result = lstm_no_dropout_model.evaluate(np.array(features), np.array(labels))"
   ]
  },
  {
   "cell_type": "code",
   "execution_count": null,
   "metadata": {},
   "outputs": [],
   "source": []
  },
  {
   "cell_type": "code",
   "execution_count": null,
   "metadata": {},
   "outputs": [],
   "source": []
  },
  {
   "cell_type": "code",
   "execution_count": null,
   "metadata": {},
   "outputs": [],
   "source": []
  }
 ],
 "metadata": {
  "kernelspec": {
   "display_name": "Python 3",
   "language": "python",
   "name": "python3"
  },
  "language_info": {
   "codemirror_mode": {
    "name": "ipython",
    "version": 3
   },
   "file_extension": ".py",
   "mimetype": "text/x-python",
   "name": "python",
   "nbconvert_exporter": "python",
   "pygments_lexer": "ipython3",
   "version": "3.7.4"
  }
 },
 "nbformat": 4,
 "nbformat_minor": 2
}
