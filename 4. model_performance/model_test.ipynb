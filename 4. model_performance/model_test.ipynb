{
 "cells": [
  {
   "cell_type": "code",
   "execution_count": 1,
   "metadata": {},
   "outputs": [
    {
     "data": {
      "text/plain": [
       "'1.15.0'"
      ]
     },
     "execution_count": 1,
     "metadata": {},
     "output_type": "execute_result"
    }
   ],
   "source": [
    "import tensorflow as tf\n",
    "import numpy as np\n",
    "import preprocess\n",
    "import pandas as pd\n",
    "import json\n",
    "# https://towardsdatascience.com/cnn-sentiment-analysis-1d16b7c5a0e7\n",
    "# https://web.stanford.edu/class/archive/cs/cs224n/cs224n.1194/reports/custom/15786247.pdf\n",
    "# https://medium.com/swlh/determining-the-happiest-cities-using-twitter-sentiment-analysis-with-bert-67b7591e593\n",
    "# https://www.kaggle.com/menion/sentiment-analysis-with-bert-87-accuracy/notebook\n",
    "tf.__version__\n",
    "# from tensorflow.data import Dataset\n"
   ]
  },
  {
   "cell_type": "code",
   "execution_count": 2,
   "metadata": {},
   "outputs": [],
   "source": [
    "features = []\n",
    "labels = []\n",
    "\n",
    "with open(\"eval.json\", \"r\") as file:\n",
    "    for line in file:\n",
    "        entry = json.loads(line)\n",
    "        labels.append(entry[\"sentiment\"] / 4)\n",
    "        features.append(entry[\"features\"])"
   ]
  },
  {
   "cell_type": "code",
   "execution_count": 3,
   "metadata": {},
   "outputs": [
    {
     "name": "stdout",
     "output_type": "stream",
     "text": [
      "WARNING:tensorflow:From /Library/Frameworks/Python.framework/Versions/3.7/lib/python3.7/site-packages/tensorflow_core/python/ops/resource_variable_ops.py:1781: calling BaseResourceVariable.__init__ (from tensorflow.python.ops.resource_variable_ops) with constraint is deprecated and will be removed in a future version.\n",
      "Instructions for updating:\n",
      "If using Keras pass *_constraint arguments to layers.\n",
      "80000/80000 [==============================] - 2s 30us/sample - loss: 0.8383 - acc: 0.7666\n"
     ]
    }
   ],
   "source": [
    "basic_model = tf.keras.models.load_model(\"standard_no_dropout/1\")\n",
    "result = basic_model.evaluate(np.array(features), np.array(labels))"
   ]
  },
  {
   "cell_type": "code",
   "execution_count": 5,
   "metadata": {},
   "outputs": [
    {
     "name": "stdout",
     "output_type": "stream",
     "text": [
      "80000/80000 [==============================] - 3s 34us/sample - loss: 0.4836 - acc: 0.7735\n"
     ]
    }
   ],
   "source": [
    "basic_dropout_model = tf.keras.models.load_model(\"standard_dropout/1\")\n",
    "result = basic_dropout_model.evaluate(np.array(features), np.array(labels))"
   ]
  },
  {
   "cell_type": "code",
   "execution_count": 6,
   "metadata": {},
   "outputs": [
    {
     "name": "stdout",
     "output_type": "stream",
     "text": [
      "80000/80000 [==============================] - 14s 171us/sample - loss: 0.6472 - acc: 0.7763\n"
     ]
    }
   ],
   "source": [
    "lstm_no_dropout_model = tf.keras.models.load_model(\"lstm_no_dropout/1\")\n",
    "result = lstm_no_dropout_model.evaluate(np.array(features), np.array(labels))"
   ]
  },
  {
   "cell_type": "code",
   "execution_count": null,
   "metadata": {},
   "outputs": [],
   "source": []
  },
  {
   "cell_type": "code",
   "execution_count": null,
   "metadata": {},
   "outputs": [],
   "source": []
  },
  {
   "cell_type": "code",
   "execution_count": null,
   "metadata": {},
   "outputs": [],
   "source": []
  },
  {
   "cell_type": "code",
   "execution_count": null,
   "metadata": {},
   "outputs": [],
   "source": []
  }
 ],
 "metadata": {
  "kernelspec": {
   "display_name": "Python 3",
   "language": "python",
   "name": "python3"
  },
  "language_info": {
   "codemirror_mode": {
    "name": "ipython",
    "version": 3
   },
   "file_extension": ".py",
   "mimetype": "text/x-python",
   "name": "python",
   "nbconvert_exporter": "python",
   "pygments_lexer": "ipython3",
   "version": "3.7.4"
  }
 },
 "nbformat": 4,
 "nbformat_minor": 2
}
